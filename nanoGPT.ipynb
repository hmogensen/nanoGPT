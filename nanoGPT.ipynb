{
  "nbformat": 4,
  "nbformat_minor": 0,
  "metadata": {
    "colab": {
      "provenance": [],
      "gpuType": "T4",
      "authorship_tag": "ABX9TyNZGYEZqy5aRrTEkTbSnAJW",
      "include_colab_link": true
    },
    "kernelspec": {
      "name": "python3",
      "display_name": "Python 3"
    },
    "language_info": {
      "name": "python"
    },
    "accelerator": "GPU"
  },
  "cells": [
    {
      "cell_type": "markdown",
      "metadata": {
        "id": "view-in-github",
        "colab_type": "text"
      },
      "source": [
        "<a href=\"https://colab.research.google.com/github/hmogensen/nanoGPT/blob/master/nanoGPT.ipynb\" target=\"_parent\"><img src=\"https://colab.research.google.com/assets/colab-badge.svg\" alt=\"Open In Colab\"/></a>"
      ]
    },
    {
      "cell_type": "code",
      "execution_count": null,
      "metadata": {
        "id": "3bjFECQZCZ0m"
      },
      "outputs": [],
      "source": [
        "!git clone https://github.com/hmogensen/nanoGPT\n",
        "cd nanoGPT"
      ]
    },
    {
      "cell_type": "code",
      "source": [
        "!pip install torch numpy transformers datasets tiktoken wandb tqdm"
      ],
      "metadata": {
        "id": "XXqpD-oYDU75"
      },
      "execution_count": null,
      "outputs": []
    },
    {
      "cell_type": "code",
      "source": [
        "# Prepare the data\n",
        "!python data/shakespeare_char/prepare.py\n",
        "\n",
        "# Train the model\n",
        "!python train.py config/train_shakespeare_char.py\n",
        "\n",
        "# Sample from the trained model\n",
        "!python sample.py --out_dir=out-shakespeare-char"
      ],
      "metadata": {
        "id": "6D7W0FtyDlm8"
      },
      "execution_count": null,
      "outputs": []
    }
  ]
}